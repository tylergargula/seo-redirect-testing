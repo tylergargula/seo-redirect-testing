{
  "cells": [
    {
      "cell_type": "markdown",
      "metadata": {
        "id": "view-in-github",
        "colab_type": "text"
      },
      "source": [
        "<a href=\"https://colab.research.google.com/github/tylergargula/seo-redirect-testing/blob/main/SEO_Migration_Redirect_Testing.ipynb\" target=\"_parent\"><img src=\"https://colab.research.google.com/assets/colab-badge.svg\" alt=\"Open In Colab\"/></a>"
      ]
    },
    {
      "cell_type": "markdown",
      "source": [
        "\n",
        "\n",
        "# SEO Migration Redirect Testing\n",
        "### Requirements & Considerations:\n",
        "<ul>\n",
        "  <li>Save a copy to use (File > Save a copy in Drive).</li>\n",
        "  <li>File must be .csv format.</li>\n",
        "  <li>First column must consist of <i>full URL</i> (URLs paths will not work).\n",
        "  <li>URL redirects must currently be in place.</li>\n",
        "  <li>If testing on redirects on a staging \n",
        "environment, URLs must be accessible without login credentials.</li>\n",
        "  <li>Run each cell individually, or run all.</li>\n",
        "</ul>\n",
        "\n"
      ],
      "metadata": {
        "id": "IjISa90-1LUl"
      }
    },
    {
      "cell_type": "markdown",
      "source": [
        "\n",
        "\n",
        "## 1. Import All Python Libraries\n",
        "\n"
      ],
      "metadata": {
        "id": "4FB_t-TZ06P6"
      }
    },
    {
      "cell_type": "code",
      "execution_count": null,
      "metadata": {
        "id": "AulEjhhX5zKD"
      },
      "outputs": [],
      "source": [
        "from concurrent.futures import ThreadPoolExecutor\n",
        "from google.colab import files\n",
        "import numpy as np\n",
        "import pandas as pd\n",
        "import requests\n",
        "from requests.sessions import Session\n",
        "import time\n",
        "from threading import Thread,local"
      ]
    },
    {
      "cell_type": "markdown",
      "source": [
        "\n",
        "\n",
        "## 2. Upload CSV file\n"
      ],
      "metadata": {
        "id": "JEFmta0Qw07S"
      }
    },
    {
      "cell_type": "code",
      "execution_count": null,
      "metadata": {
        "id": "GNqRyqrm6Qs-"
      },
      "outputs": [],
      "source": [
        "upload = files.upload()\n",
        "input_file = list(upload.keys())[0]\n",
        "request_urls = pd.read_csv(input_file)\n",
        "col_1 = list(request_urls.columns)[0]\n",
        "request_urls[col_1].head()\n"
      ]
    },
    {
      "cell_type": "markdown",
      "source": [
        "\n",
        "\n",
        "## 3. Enter Testing Domains\n",
        "<ul><li><i>If testing redirects on non-production environment</i> , \"New/Staging Domain\" should be full testing domain.</li>\n",
        "<li><i>If testing redirects on production environment</i> , \"New/Staging Domain\" should be the new/updated domain.<br><i>NOTE: legacy/new domains can be the same if not changed</i></li></ul>\n"
      ],
      "metadata": {
        "id": "bvcFRVl918l0"
      }
    },
    {
      "cell_type": "code",
      "execution_count": null,
      "metadata": {
        "id": "vRC_MAxB9qWf"
      },
      "outputs": [],
      "source": [
        "LEGACY_DOMAIN = input('Enter full Legacy Domain (ex: https://www.site.com/):   ')\n",
        "NEW_DOMAIN = input('Enter full New/Staging Domain (ex: https://www.stage.site.com/):   ')\n",
        "\n",
        "\n",
        "request_list = request_urls['Address'].tolist()\n",
        "\n",
        "new_request_list = []\n",
        "\n",
        "for url in request_list:\n",
        "  if LEGACY_DOMAIN in url:\n",
        "    new_url = url.replace(LEGACY_DOMAIN, NEW_DOMAIN)\n",
        "    new_request_list.append(new_url)"
      ]
    },
    {
      "cell_type": "markdown",
      "source": [
        "\n",
        "## 4. Perform URL analysis \n"
      ],
      "metadata": {
        "id": "LCiMqSkT3mej"
      }
    },
    {
      "cell_type": "code",
      "execution_count": null,
      "metadata": {
        "id": "Z690kuNQ1Mgq"
      },
      "outputs": [],
      "source": [
        "\n",
        "redirection_dict = {\n",
        "    'Request URL': [],\n",
        "    'Request Status Code': [],\n",
        "    'Redirected URL': [],\n",
        "    'Redirected Status Code': []             \n",
        "}\n",
        "\n",
        "\n",
        "thread_local = local()\n",
        "\n",
        "def get_session():\n",
        "    if not hasattr(thread_local,'session'):\n",
        "        thread_local.session = requests.Session()\n",
        "    return thread_local.session\n",
        "\n",
        "def download_link(url:str):\n",
        "    session = get_session()\n",
        "    with session.head(url) as response:\n",
        "        response = requests.head(url, allow_redirects=True)\n",
        "        redirection_dict['Request URL'].append(url)\n",
        "        redirection_dict['Request Status Code'].append(response.history)\n",
        "        redirection_dict['Redirected URL'].append(response.url)\n",
        "        redirection_dict['Redirected Status Code'].append(response.status_code)\n",
        "\n",
        "        print(f'Analyzing :: {url}')\n",
        "\n",
        "\n",
        "def download_all(urls:list):\n",
        "    with ThreadPoolExecutor(max_workers=10) as executor:\n",
        "        executor.map(download_link,new_request_list)\n",
        "\n",
        "start = time.time()\n",
        "download_all(new_request_list)\n",
        "end = time.time()\n",
        "print(f'download {len(new_request_list)} links in {end - start} seconds')"
      ]
    },
    {
      "cell_type": "markdown",
      "source": [
        "\n",
        "\n",
        "## 5. Format Data \n",
        "\n"
      ],
      "metadata": {
        "id": "0q5OJ99I33Sh"
      }
    },
    {
      "cell_type": "code",
      "execution_count": null,
      "metadata": {
        "id": "qdgA8ZFFEZY_"
      },
      "outputs": [],
      "source": [
        "\n",
        "redirect_df = pd.DataFrame.from_dict(redirection_dict)\n",
        "redirect_df['Request Status Code'] = redirect_df['Request Status Code'].astype(str).str[12:15]\n",
        "redirect_df['Request Status Code'] = np.where(redirect_df['Request URL'] == redirect_df['Redirected URL'],redirect_df['Redirected Status Code'],redirect_df['Request Status Code'])\n",
        "redirect_df['Redirected URL'] = np.where(redirect_df['Request URL'] == redirect_df['Redirected URL'], 'N/A', redirect_df['Redirected URL'])\n",
        "redirect_df['Redirected Status Code'] = np.where(redirect_df['Redirected URL'] == 'N/A', 'URL did not redirect',redirect_df['Redirected Status Code'])\n",
        "redirect_df.head()\n"
      ]
    },
    {
      "cell_type": "markdown",
      "source": [
        "## 6. Export to Excel"
      ],
      "metadata": {
        "id": "mKy5aA8p4Cf7"
      }
    },
    {
      "cell_type": "code",
      "execution_count": null,
      "metadata": {
        "colab": {
          "base_uri": "https://localhost:8080/",
          "height": 17
        },
        "id": "N-egrutrEkUg",
        "outputId": "5d731061-3002-4998-c5ba-c7b5f39c872a"
      },
      "outputs": [
        {
          "output_type": "display_data",
          "data": {
            "text/plain": [
              "<IPython.core.display.Javascript object>"
            ],
            "application/javascript": [
              "\n",
              "    async function download(id, filename, size) {\n",
              "      if (!google.colab.kernel.accessAllowed) {\n",
              "        return;\n",
              "      }\n",
              "      const div = document.createElement('div');\n",
              "      const label = document.createElement('label');\n",
              "      label.textContent = `Downloading \"${filename}\": `;\n",
              "      div.appendChild(label);\n",
              "      const progress = document.createElement('progress');\n",
              "      progress.max = size;\n",
              "      div.appendChild(progress);\n",
              "      document.body.appendChild(div);\n",
              "\n",
              "      const buffers = [];\n",
              "      let downloaded = 0;\n",
              "\n",
              "      const channel = await google.colab.kernel.comms.open(id);\n",
              "      // Send a message to notify the kernel that we're ready.\n",
              "      channel.send({})\n",
              "\n",
              "      for await (const message of channel.messages) {\n",
              "        // Send a message to notify the kernel that we're ready.\n",
              "        channel.send({})\n",
              "        if (message.buffers) {\n",
              "          for (const buffer of message.buffers) {\n",
              "            buffers.push(buffer);\n",
              "            downloaded += buffer.byteLength;\n",
              "            progress.value = downloaded;\n",
              "          }\n",
              "        }\n",
              "      }\n",
              "      const blob = new Blob(buffers, {type: 'application/binary'});\n",
              "      const a = document.createElement('a');\n",
              "      a.href = window.URL.createObjectURL(blob);\n",
              "      a.download = filename;\n",
              "      div.appendChild(a);\n",
              "      a.click();\n",
              "      div.remove();\n",
              "    }\n",
              "  "
            ]
          },
          "metadata": {}
        },
        {
          "output_type": "display_data",
          "data": {
            "text/plain": [
              "<IPython.core.display.Javascript object>"
            ],
            "application/javascript": [
              "download(\"download_2a589d42-6212-4756-a040-07afd524faee\", \"redirect_analysis_2022-11-18.xlsx\", 37707)"
            ]
          },
          "metadata": {}
        }
      ],
      "source": [
        "from datetime import date\n",
        "today = date.today()\n",
        "redirect_df.to_excel(f'redirect_analysis_{today}.xlsx', index=False)\n",
        "files.download(f'redirect_analysis_{today}.xlsx')"
      ]
    }
  ],
  "metadata": {
    "colab": {
      "provenance": [],
      "authorship_tag": "ABX9TyPbdCjdvfKI+Um7j55KfuQk",
      "include_colab_link": true
    },
    "kernelspec": {
      "display_name": "Python 3",
      "name": "python3"
    },
    "language_info": {
      "name": "python"
    }
  },
  "nbformat": 4,
  "nbformat_minor": 0
}